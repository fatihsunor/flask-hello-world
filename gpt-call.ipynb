# Query tools relevant to the query
# Put them in prompt

from openai import OpenAI
client = OpenAI()
completion = client.chat.completions.create(
    model="gpt-4o-mini",
    store=True,
    messages=[
        {"role": "user", "content": "Order pizza from zazie"},
        {"role": "system", "content": "Write the url https://flask-hello-world-fe3o.onrender.com/ with the correct parameters restaurant and menu_item based on user query. Output only the complete url, nothing else"}
    ]
)

# gpt 4o mini output
# ChatCompletionMessage(content='https://flask-hello-world-fe3o.onrender.com/?restaurant=zazie&menu_item=pizza', refusal=None, role='assistant', audio=None, function_call=None, tool_calls=None)
