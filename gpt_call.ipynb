{
 "cells": [
  {
   "cell_type": "code",
   "execution_count": null,
   "metadata": {},
   "outputs": [],
   "source": [
    "# Query tools relevant to the query\n",
    "# Put them in prompt\n",
    "\n",
    "from openai import OpenAI\n",
    "client = OpenAI()\n",
    "completion = client.chat.completions.create(\n",
    "    model=\"gpt-4o-mini\",\n",
    "    store=True,\n",
    "    messages=[\n",
    "        {\"role\": \"user\", \"content\": \"Order pizza from zazie\"},\n",
    "        {\"role\": \"system\", \"content\": \"Write the url https://flask-hello-world-fe3o.onrender.com/ with the correct parameters restaurant and menu_item based on user query. Output only the complete url, nothing else\"}\n",
    "    ]\n",
    ")\n",
    "\n",
    "# gpt 4o mini output\n",
    "# ChatCompletionMessage(content='https://flask-hello-world-fe3o.onrender.com/?restaurant=zazie&menu_item=pizza', refusal=None, role='assistant', audio=None, function_call=None, tool_calls=None)"
   ]
  }
 ],
 "metadata": {
  "language_info": {
   "name": "python"
  }
 },
 "nbformat": 4,
 "nbformat_minor": 2
}
